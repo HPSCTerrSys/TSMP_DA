{
 "cells": [
  {
   "cell_type": "code",
   "execution_count": 32,
   "id": "7deacbbd-830b-425d-aacf-bcae84e1cd13",
   "metadata": {},
   "outputs": [],
   "source": [
    "import numpy as np\n",
    "\n",
    "import sys\n",
    "extra_path = '/p/project/cjibg36/kaandorp2/Git/SLOTH' \n",
    "if extra_path not in sys.path:\n",
    "    sys.path.append(extra_path)\n",
    "from sloth.IO import readSa, writeSa\n",
    "\n",
    "\n",
    "file_indi = '/p/project/cjibg36/kaandorp2/TSMP_patched/tsmp_cordex_111x108/input_pf/EUR-11_TSMP_FZJ-IBG3_CLMPFLDomain_111x108_INDICATOR_regridded_rescaled_SoilGrids250-v2017_BGR3_alv.sa'\n",
    "sample_every_xy = 5\n",
    "sample_every_z = 3\n",
    "\n",
    "### indicator file data\n",
    "\n",
    "data_indi = readSa(file_indi)\n",
    "\n",
    "indi_names = ['TC%2.2i' %i for i in range(1,13)] + ['Allv'] + ['BGR%1.1i' %i for i in range(1,7)] + ['Lake','Sea']\n",
    "indi_nr = np.setdiff1d(np.arange(1,len(indi_names)+2),np.array([20]) ) #array starting at 1, to 22 and without 20\n",
    "indi_nr_estim = np.setdiff1d(np.arange(1,len(indi_names)+2),np.array([13,20,21,22]) ) #which indicators to estimate: don't estimate Allv, water\n",
    "indi_perm = [0.267787,0.043832,0.015951,0.005021,0.0076,0.01823,0.005493,0.00341,0.004632,0.004729,0.004007,0.006149,\n",
    "             0.1,\n",
    "             0.1,0.05,0.01,0.005,0.001,0.0005,\n",
    "             1e-5,1e-5]\n",
    "indi_logKs     = [2.808,2.022,1.583,1.081,1.261,1.641,\n",
    "                  1.120,0.913,1.046,1.055,0.983,1.169]\n",
    "indi_logKs_sig = [0.590,0.640,0.660,0.920,0.740,0.270,\n",
    "                  0.850,1.090,0.760,0.890,0.570,0.920]\n",
    "indi_names_full = ['sand','loamy sand','sandy loam','loam','silt loam','silt',\n",
    "                   'sandy clay loam','clay loam','silty clay loam','sandy clay','silty clay','clay'] + ['Alluvium'] + ['BGR%1.1i' %i for i in range(1,7)] + ['Lake','Sea']\n",
    "indi_dz = 2*np.array([9.0,7.5,5.0,5.0,2.0,0.5,0.35,0.25,0.15,0.10,0.065,0.035,0.025,0.015,0.01])\n",
    "indi_depths = np.flip(np.cumsum(np.flip(indi_dz)))\n",
    "\n",
    "\n",
    "\n",
    "### setting sampling and interpolation indices\n",
    "\n",
    "# select z-indices for which the Kriged fields will be created. For the rest of the indices, interpolate the Ks values\n",
    "i_sample_z = np.arange(data_indi.shape[0]-1,0,-sample_every_z)\n",
    "if 0 not in i_sample_z:\n",
    "    i_sample_z = np.append(i_sample_z,0)\n",
    "i_sample_z = np.flip(i_sample_z)\n",
    "assert i_sample_z[0] == 0\n",
    "assert i_sample_z[-1] == data_indi.shape[0]-1\n",
    "\n",
    "# indices of layers for which linear interpolation is used\n",
    "i_interp_z = np.setxor1d(i_sample_z,np.arange(0,data_indi.shape[0]))\n",
    "\n",
    "\n",
    "\n",
    "### generate Ks field from indicator data\n",
    "\n",
    "field_Ks_log = np.zeros(data_indi.shape)\n",
    "field_Ks_sig_log = np.zeros(data_indi.shape)\n",
    "sig_log_standard = 0.74 #set standard uncertainty to mean of Rosetta values\n",
    "\n",
    "for i1,indicator in enumerate(indi_nr):\n",
    "    mask = (data_indi == indicator)\n",
    "    \n",
    "    if indicator <= 12: #surface layers, soilgrids\n",
    "        # use Rosetta: values are given in log10(cm/day) -> convert to log10(m/h) for ParFlow\n",
    "        field_Ks_log[mask] = indi_logKs[i1] - np.log10(100*24) #go from cm/day (Rosetta) to m/h (ParFlow)\n",
    "        field_Ks_sig_log[mask] = indi_logKs_sig[i1] # no unit transform necessary here (log space is already relative)\n",
    "    elif indicator < 20: # deep subsurface\n",
    "        # use standard ParFlow values. Take the log10, and use predefined uncertainty\n",
    "        field_Ks_log[mask] = np.log10(indi_perm[i1])\n",
    "        field_Ks_sig_log[mask] = sig_log_standard\n",
    "    else: #lake and ocean\n",
    "        field_Ks_log[mask] = np.log10(indi_perm[i1])\n",
    "        field_Ks_sig_log[mask] = np.nan\n",
    "            \n",
    "assert (field_Ks_log==0).sum() == 0\n",
    "\n",
    "\n",
    "\n",
    "### sample the Ks field at given locations\n",
    "\n",
    "i_c_z = i_sample_z\n",
    "i_c_lat = np.arange(0,field_Ks_log.shape[1],sample_every_xy)\n",
    "i_c_lon = np.arange(0,field_Ks_log.shape[2],sample_every_xy)\n",
    "\n",
    "X_c_all = np.meshgrid(i_c_z,i_c_lat,i_c_lon,indexing='ij')\n",
    "# mask_c_land = ~np.isnan(field_Ks_sig_log[np.ix_(i_c_z,i_c_lat,i_c_lon)])\n",
    "mask_c_land = np.isin(data_indi,indi_nr_estim)[np.ix_(i_c_z,i_c_lat,i_c_lon)]\n",
    "X_train = np.array([X_c_all[0][mask_c_land],\n",
    "                   X_c_all[1][mask_c_land],\n",
    "                   X_c_all[2][mask_c_land]]).T\n",
    "\n",
    "Y_train = field_Ks_log[np.ix_(i_c_z,i_c_lat,i_c_lon)][mask_c_land]\n",
    "Y_sigma = field_Ks_sig_log[np.ix_(i_c_z,i_c_lat,i_c_lon)][mask_c_land]\n",
    "\n",
    "\n",
    "### write static data: x-vals, y-vals, z-vals\n",
    "np.save('Ks.static',X_train)\n",
    "\n",
    "### write parameter data: log(Ks) log(sigma)\n",
    "np.save('Ks.param',np.array([Y_train,Y_sigma]).T)\n",
    "\n"
   ]
  },
  {
   "cell_type": "code",
   "execution_count": 29,
   "id": "fb1ca9f7-5e95-4f05-bf9b-af411718a577",
   "metadata": {},
   "outputs": [
    {
     "ename": "TypeError",
     "evalue": "only integer scalar arrays can be converted to a scalar index",
     "output_type": "error",
     "traceback": [
      "\u001b[0;31m---------------------------------------------------------------------------\u001b[0m",
      "\u001b[0;31mTypeError\u001b[0m                                 Traceback (most recent call last)",
      "\u001b[0;32m/tmp/ipykernel_23523/314373636.py\u001b[0m in \u001b[0;36m<cell line: 3>\u001b[0;34m()\u001b[0m\n\u001b[1;32m      1\u001b[0m \u001b[0;32mimport\u001b[0m \u001b[0mmatplotlib\u001b[0m\u001b[0;34m.\u001b[0m\u001b[0mpyplot\u001b[0m \u001b[0;32mas\u001b[0m \u001b[0mplt\u001b[0m\u001b[0;34m\u001b[0m\u001b[0;34m\u001b[0m\u001b[0m\n\u001b[1;32m      2\u001b[0m \u001b[0mplt\u001b[0m\u001b[0;34m.\u001b[0m\u001b[0mfigure\u001b[0m\u001b[0;34m(\u001b[0m\u001b[0;34m)\u001b[0m\u001b[0;34m\u001b[0m\u001b[0;34m\u001b[0m\u001b[0m\n\u001b[0;32m----> 3\u001b[0;31m \u001b[0mplt\u001b[0m\u001b[0;34m.\u001b[0m\u001b[0mscatter\u001b[0m\u001b[0;34m(\u001b[0m\u001b[0mX_c_all\u001b[0m\u001b[0;34m[\u001b[0m\u001b[0mmask_c_land\u001b[0m\u001b[0;34m]\u001b[0m\u001b[0;34m,\u001b[0m\u001b[0mX_c_all\u001b[0m\u001b[0;34m[\u001b[0m\u001b[0mmask_c_land\u001b[0m\u001b[0;34m]\u001b[0m\u001b[0;34m,\u001b[0m\u001b[0mc\u001b[0m\u001b[0;34m=\u001b[0m\u001b[0mY_train\u001b[0m\u001b[0;34m)\u001b[0m\u001b[0;34m\u001b[0m\u001b[0;34m\u001b[0m\u001b[0m\n\u001b[0m",
      "\u001b[0;31mTypeError\u001b[0m: only integer scalar arrays can be converted to a scalar index"
     ]
    }
   ],
   "source": [
    "import matplotlib.pyplot as plt\n",
    "plt.figure()\n",
    "plt.scatter(X_c_all[mask_c_land],X_c_all[mask_c_land],c=Y_train)"
   ]
  },
  {
   "cell_type": "code",
   "execution_count": 31,
   "id": "c3319dd2-36ea-45e6-bf2b-8b6ebc85dbfb",
   "metadata": {},
   "outputs": [
    {
     "data": {
      "text/plain": [
       "(6, 22, 23)"
      ]
     },
     "execution_count": 31,
     "metadata": {},
     "output_type": "execute_result"
    }
   ],
   "source": [
    "mask_c_land.shape"
   ]
  },
  {
   "cell_type": "code",
   "execution_count": null,
   "id": "435f94f6-f026-414e-a418-79cb82373702",
   "metadata": {},
   "outputs": [],
   "source": [
    "import pandas as pd\n",
    "import matplotlib.pyplot as plt\n",
    "import matplotlib.colors as colors\n",
    "import xarray as xr\n",
    "import os\n",
    "import shutil\n",
    "import time\n",
    "from glob import glob\n",
    "from scipy.stats import pearsonr\n",
    "from datetime import datetime, timedelta\n"
   ]
  },
  {
   "cell_type": "code",
   "execution_count": 13,
   "id": "3b40be33-ce78-4af6-8700-dc3a145daf7b",
   "metadata": {},
   "outputs": [
    {
     "data": {
      "text/plain": [
       "array([ 0,  0,  0, ..., 14, 14, 14])"
      ]
     },
     "execution_count": 13,
     "metadata": {},
     "output_type": "execute_result"
    }
   ],
   "source": [
    "X_train[:,0]"
   ]
  },
  {
   "cell_type": "code",
   "execution_count": 19,
   "id": "c65fb4a2-b2c5-4602-b3d1-cee2c055b81d",
   "metadata": {},
   "outputs": [
    {
     "data": {
      "text/plain": [
       "(1677, 2)"
      ]
     },
     "execution_count": 19,
     "metadata": {},
     "output_type": "execute_result"
    }
   ],
   "source": [
    "np.array([Y_train,Y_sigma]).T.shape"
   ]
  },
  {
   "cell_type": "code",
   "execution_count": 23,
   "id": "6bd971a1-fc8d-4aae-9aab-7ab715b05ed1",
   "metadata": {},
   "outputs": [
    {
     "data": {
      "text/plain": [
       "array([0.74, 0.74, 0.74, ..., 0.92, 0.92, 0.92])"
      ]
     },
     "execution_count": 23,
     "metadata": {},
     "output_type": "execute_result"
    }
   ],
   "source": [
    "Y_sigma"
   ]
  },
  {
   "cell_type": "code",
   "execution_count": null,
   "id": "53ce342f-b10a-4cb6-9f46-d6da0975fc15",
   "metadata": {},
   "outputs": [],
   "source": []
  }
 ],
 "metadata": {
  "kernelspec": {
   "display_name": "Python 3 (ipykernel)",
   "language": "python",
   "name": "python3"
  },
  "language_info": {
   "codemirror_mode": {
    "name": "ipython",
    "version": 3
   },
   "file_extension": ".py",
   "mimetype": "text/x-python",
   "name": "python",
   "nbconvert_exporter": "python",
   "pygments_lexer": "ipython3",
   "version": "3.9.6"
  }
 },
 "nbformat": 4,
 "nbformat_minor": 5
}
